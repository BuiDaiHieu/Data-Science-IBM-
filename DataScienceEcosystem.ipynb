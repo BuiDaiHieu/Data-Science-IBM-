{
 "cells": [
  {
   "cell_type": "markdown",
   "id": "1a930351-7c97-4060-84e1-db311f5f6733",
   "metadata": {},
   "source": [
    "# Data Science Tools and Ecosystem"
   ]
  },
  {
   "cell_type": "markdown",
   "id": "5fe7e2f8-483e-45f6-a10e-9b49dd9bc314",
   "metadata": {},
   "source": [
    "In this notebook, Data Science Tools and Ecosystem are summarized."
   ]
  },
  {
   "cell_type": "markdown",
   "id": "e24bd223-7e5f-434a-a209-86424d5086e3",
   "metadata": {},
   "source": [
    "Objectives:\r\n",
    "\r\n",
    "- List popular languages for Data Science\r\n",
    "- Create markdown cells with tables and headings\r\n",
    "- Write Python code to perform arithmetic operations\r\n",
    "- Convert time units from minutes to hours\r\n",
    "- Understand basic Jupyter Notebook operations\r\n"
   ]
  },
  {
   "cell_type": "markdown",
   "id": "889d2a96-1ca7-4120-bfd2-ce9dc7f42116",
   "metadata": {},
   "source": [
    "Some of the popular languages that Data Scientists use are:\n",
    "1. Python\n",
    "2. R\n",
    "3. SQL"
   ]
  },
  {
   "cell_type": "markdown",
   "id": "38b5e011-ac97-443f-b9af-81b12f52c7f7",
   "metadata": {},
   "source": [
    "Some of the commonly used libraries used by Data Scientists include:\n",
    "1. Panda (Python)\n",
    "2. NumPy (Python)\n",
    "3. Matplotlib (Python)"
   ]
  },
  {
   "cell_type": "markdown",
   "id": "fbf989e1-6828-4cf3-8707-e8df6649af4f",
   "metadata": {},
   "source": [
    "| Data Science Tools        |\r\n",
    "|---------------------------|\r\n",
    "| Jupyter Notebooks         |\r\n",
    "| RStudio                   |\r\n",
    "| Apache Zeppelin           |\r\n"
   ]
  },
  {
   "cell_type": "markdown",
   "id": "8a603e80-fb8f-4016-be95-2c110f0d5897",
   "metadata": {},
   "source": [
    "### Below are a few examples of evaluating arithmetic expressions in Python.\n"
   ]
  },
  {
   "cell_type": "code",
   "execution_count": 3,
   "id": "7db35d56-402a-4a2d-8b23-5cb5c410721b",
   "metadata": {},
   "outputs": [
    {
     "data": {
      "text/plain": [
       "17"
      ]
     },
     "execution_count": 3,
     "metadata": {},
     "output_type": "execute_result"
    }
   ],
   "source": [
    "# This a simple arithmetic expression to mutiply then add integers\n",
    "(3*4)+5"
   ]
  },
  {
   "cell_type": "code",
   "execution_count": 4,
   "id": "d1a3bb43-5b25-4f85-aa9d-5a76ea20da2d",
   "metadata": {},
   "outputs": [
    {
     "data": {
      "text/plain": [
       "3.3333333333333335"
      ]
     },
     "execution_count": 4,
     "metadata": {},
     "output_type": "execute_result"
    }
   ],
   "source": [
    "# This will convert 200 minutes to hours by dividing by 60\n",
    "minutes = 200\n",
    "hours = minutes / 60\n",
    "hours\n"
   ]
  },
  {
   "cell_type": "markdown",
   "id": "21f3479d-23ec-4e87-bc70-87cbde79a66b",
   "metadata": {},
   "source": [
    "## Author\r",
    "Hieu Bui Dai\r\n"
   ]
  },
  {
   "cell_type": "code",
   "execution_count": null,
   "id": "5fc7106d-8d0a-4bb2-a037-9b1228e17256",
   "metadata": {},
   "outputs": [],
   "source": []
  }
 ],
 "metadata": {
  "kernelspec": {
   "display_name": "Python 3 (ipykernel)",
   "language": "python",
   "name": "python3"
  },
  "language_info": {
   "codemirror_mode": {
    "name": "ipython",
    "version": 3
   },
   "file_extension": ".py",
   "mimetype": "text/x-python",
   "name": "python",
   "nbconvert_exporter": "python",
   "pygments_lexer": "ipython3",
   "version": "3.11.0"
  }
 },
 "nbformat": 4,
 "nbformat_minor": 5
}
